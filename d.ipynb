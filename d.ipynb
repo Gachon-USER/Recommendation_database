{
 "cells": [
  {
   "cell_type": "code",
   "execution_count": null,
   "metadata": {},
   "outputs": [],
   "source": [
    "N, A = 5, 3\n",
    "arr = [1, 5, 10, 9, 11]\n",
    "\n",
    "count = 0\n",
    "interval = 0\n",
    "end = 0\n",
    "\n",
    "for start in range(len(arr)):\n",
    "    while interval < M and end < len(arr):\n",
    "        interval += arr[end]\n",
    "        end += 1\n",
    "    if interval == M:\n",
    "        count += 1\n",
    "    interval -= arr[start]\n",
    "\n",
    "print(count)"
   ]
  },
  {
   "cell_type": "code",
   "execution_count": null,
   "metadata": {},
   "outputs": [],
   "source": [
    "import numpy as np\n",
    "\n",
    "N = int(input()) #숫자의 갯수 \n",
    "nums = sorted(list(map(int, input().split()))) #nums = sorted(np.random.randint(1,100,10))\n",
    "M = int(input()) #합 \n",
    "\n",
    "start, end = 0, 0 #투포인터 , 모두 시작지점을 가리킴\n",
    "partialSum = 0 #부분배열의 합(변수)\n",
    "cnt = 0 #맞는 갯수 \n",
    "\n",
    "while start < N:  #start가 숫자의 갯수보다 작을 동안 \n",
    "    if partialSum > M or end >= N: #합이 M보다 크고, end가 N보다 크거나 같으면 \n",
    "        partialSum -= nums[start] #부분합=부분합-nums[start]\n",
    "        start += 1 #하나 오른쪽으로 (start의 값을 오른쪽으로 보내, 더할 범위를 줄임)\n",
    "    elif partialSum <= M: #부분합이 M보다 작거나 같으면 \n",
    "        partialSum += nums[end] #부분합 = 부분합 +nums[end]\n",
    "        end += 1 #하나 왼쪽으로(end의 값을 오른쪽으로 보내 더할 범위를 늘린다)\n",
    "    if partialSum == M: #부분합이 M과 같다면, 범위와 값을 출력 \n",
    "        print(nums[start:end], start, end)\n",
    "        cnt+= 1 #cnt를 하나 더함 \n",
    "\n",
    "print(cnt)"
   ]
  },
  {
   "cell_type": "code",
   "execution_count": null,
   "metadata": {},
   "outputs": [],
   "source": [
    "import sys\n",
    "input = sys.stdin.readline\n",
    "N,A=map(int, input().split())#N개 값 , A일 \n",
    "dt=list(map(int, input().split()))\n",
    "\n",
    "if max(dt)==0:\n",
    "    print('none')\n",
    "else:\n",
    "    #value initialize\n",
    "    value=sum(dt[:A])#A개로 나누어 sum을 구함\n",
    "    max_V=value\n",
    "    max_C=1\n",
    "\n",
    "    for i in range(A,N): #A ~ N-1\n",
    "        #슬라이딩 윈도우\n",
    "        value=value+dt[i] #윈도앞 값\n",
    "        value=value-dt[i-1] #윈도 뒤의 값\n",
    "\n",
    "        #최대값을 찾음 \n",
    "\n",
    "        if value>max_V:\n",
    "            max_V=value\n",
    "            \n",
    "\n",
    "        # 최대값의 횟수 count\n",
    "        elif value==max_V:\n",
    "            max_C+=1\n",
    "    print(max_V)\n",
    "    print(max_C)"
   ]
  }
 ],
 "metadata": {
  "language_info": {
   "name": "python"
  },
  "orig_nbformat": 4
 },
 "nbformat": 4,
 "nbformat_minor": 2
}
