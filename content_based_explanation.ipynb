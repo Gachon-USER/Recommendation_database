{
 "cells": [
  {
   "cell_type": "code",
   "execution_count": 1,
   "metadata": {},
   "outputs": [],
   "source": [
    "import pandas as pd\n",
    "from sklearn.feature_extraction.text import TfidfVectorizer\n",
    "from sklearn.feature_extraction.text import CountVectorizer\n",
    "from sklearn.metrics.pairwise import cosine_similarity"
   ]
  },
  {
   "cell_type": "code",
   "execution_count": 3,
   "metadata": {},
   "outputs": [
    {
     "data": {
      "text/html": [
       "<div>\n",
       "<style scoped>\n",
       "    .dataframe tbody tr th:only-of-type {\n",
       "        vertical-align: middle;\n",
       "    }\n",
       "\n",
       "    .dataframe tbody tr th {\n",
       "        vertical-align: top;\n",
       "    }\n",
       "\n",
       "    .dataframe thead th {\n",
       "        text-align: right;\n",
       "    }\n",
       "</style>\n",
       "<table border=\"1\" class=\"dataframe\">\n",
       "  <thead>\n",
       "    <tr style=\"text-align: right;\">\n",
       "      <th></th>\n",
       "      <th>레시피id</th>\n",
       "      <th>사진</th>\n",
       "      <th>요리</th>\n",
       "      <th>재료</th>\n",
       "      <th>조리법</th>\n",
       "      <th>카테고리</th>\n",
       "    </tr>\n",
       "  </thead>\n",
       "  <tbody>\n",
       "    <tr>\n",
       "      <th>0</th>\n",
       "      <td>1</td>\n",
       "      <td>NaN</td>\n",
       "      <td>스팸 김밥</td>\n",
       "      <td>스팸 1통\\n밥 2그릇\\n달걀 4개\\n맛소금\\n김밥용 김 2장</td>\n",
       "      <td>1. 밥에 참기름과 맛소금을 넣고 잘 버무려 주세요. 밥 두공기에, 맛소금 1/2 ...</td>\n",
       "      <td>일식, 밥, 김밥, 분식, 돼지고기</td>\n",
       "    </tr>\n",
       "  </tbody>\n",
       "</table>\n",
       "</div>"
      ],
      "text/plain": [
       "   레시피id  사진     요리                                  재료  \\\n",
       "0      1 NaN  스팸 김밥  스팸 1통\\n밥 2그릇\\n달걀 4개\\n맛소금\\n김밥용 김 2장   \n",
       "\n",
       "                                                 조리법                 카테고리  \n",
       "0  1. 밥에 참기름과 맛소금을 넣고 잘 버무려 주세요. 밥 두공기에, 맛소금 1/2 ...  일식, 밥, 김밥, 분식, 돼지고기  "
      ]
     },
     "execution_count": 3,
     "metadata": {},
     "output_type": "execute_result"
    }
   ],
   "source": [
    "df = pd.read_csv('recipe_list.csv')\n",
    "df.head(1)"
   ]
  },
  {
   "cell_type": "code",
   "execution_count": 10,
   "metadata": {},
   "outputs": [],
   "source": [
    "# 불용어를 임의로 만든다\n",
    "stopwords=['으로', '가', '을', '를', '에', '로', '에게', '또한', ',', '.']"
   ]
  },
  {
   "cell_type": "code",
   "execution_count": 11,
   "metadata": {},
   "outputs": [],
   "source": [
    "# TfidfVectorizer를 불러온다\n",
    "from sklearn.feature_extraction.text import TfidfVectorizer\n",
    "\n",
    "# 불용어 제거\n",
    "tfidf = TfidfVectorizer(stop_words = stopwords)\n",
    "\n",
    "# Replace NaN with an empty string\n",
    "df['food_ex'] = df['food_ex'].fillna('')\n",
    "\n",
    "#  tfidf matrix 만든다\n",
    "tfidf_matrix = tfidf.fit_transform(df['food_ex'])\n"
   ]
  },
  {
   "cell_type": "code",
   "execution_count": 12,
   "metadata": {},
   "outputs": [],
   "source": [
    "# Import linear_kernel 한 후 cosine similarity 계산\n",
    "from sklearn.metrics.pairwise import linear_kernel\n",
    "\n",
    "cosine_sim = linear_kernel(tfidf_matrix, tfidf_matrix)"
   ]
  },
  {
   "cell_type": "code",
   "execution_count": 14,
   "metadata": {},
   "outputs": [],
   "source": [
    "# index와 food title의 역방향 matrix 만들기\n",
    "indices = pd.Series(df.index, index=df['food']).drop_duplicates()"
   ]
  },
  {
   "cell_type": "code",
   "execution_count": 15,
   "metadata": {},
   "outputs": [],
   "source": [
    "# 추천시스템: 2개를 뽑는데\n",
    "# 뽑는 갯수를 변형하는것은 sim_scores[1:3]의 뒷자리 변경\n",
    "\n",
    "def get_recommendations(title, cosine_sim=cosine_sim):\n",
    "    \n",
    "    idx = indices[title]\n",
    "\n",
    "    sim_scores = list(enumerate(cosine_sim[idx]))\n",
    "    sim_scores = sorted(sim_scores, key=lambda x: x[1], reverse=True)\n",
    "    sim_scores = sim_scores[1:3]\n",
    "    food_indices = [i[0] for i in sim_scores]\n",
    "    return df['food'].iloc[food_indices]"
   ]
  },
  {
   "cell_type": "code",
   "execution_count": 16,
   "metadata": {},
   "outputs": [
    {
     "data": {
      "text/plain": [
       "2    빨계떡\n",
       "4    떡라면\n",
       "Name: food, dtype: object"
      ]
     },
     "execution_count": 16,
     "metadata": {},
     "output_type": "execute_result"
    }
   ],
   "source": [
    "get_recommendations('라면')"
   ]
  }
 ],
 "metadata": {
  "kernelspec": {
   "display_name": "Python 3.9.7 ('base')",
   "language": "python",
   "name": "python3"
  },
  "language_info": {
   "codemirror_mode": {
    "name": "ipython",
    "version": 3
   },
   "file_extension": ".py",
   "mimetype": "text/x-python",
   "name": "python",
   "nbconvert_exporter": "python",
   "pygments_lexer": "ipython3",
   "version": "3.9.7 (default, Sep 16 2021, 16:59:28) [MSC v.1916 64 bit (AMD64)]"
  },
  "orig_nbformat": 4,
  "vscode": {
   "interpreter": {
    "hash": "f08154012ddadd8e950e6e9e035c7a7b32c136e7647e9b7c77e02eb723a8bedb"
   }
  }
 },
 "nbformat": 4,
 "nbformat_minor": 2
}
