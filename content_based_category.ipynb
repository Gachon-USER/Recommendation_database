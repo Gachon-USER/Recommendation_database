{
 "cells": [
  {
   "cell_type": "code",
   "execution_count": 26,
   "metadata": {},
   "outputs": [],
   "source": [
    "import pandas as pd\n",
    "from sklearn.feature_extraction.text import TfidfVectorizer\n",
    "from sklearn.feature_extraction.text import CountVectorizer\n",
    "from sklearn.metrics.pairwise import cosine_similarity"
   ]
  },
  {
   "cell_type": "code",
   "execution_count": 27,
   "metadata": {},
   "outputs": [
    {
     "data": {
      "text/html": [
       "<div>\n",
       "<style scoped>\n",
       "    .dataframe tbody tr th:only-of-type {\n",
       "        vertical-align: middle;\n",
       "    }\n",
       "\n",
       "    .dataframe tbody tr th {\n",
       "        vertical-align: top;\n",
       "    }\n",
       "\n",
       "    .dataframe thead th {\n",
       "        text-align: right;\n",
       "    }\n",
       "</style>\n",
       "<table border=\"1\" class=\"dataframe\">\n",
       "  <thead>\n",
       "    <tr style=\"text-align: right;\">\n",
       "      <th></th>\n",
       "      <th>레시피id</th>\n",
       "      <th>사진</th>\n",
       "      <th>요리</th>\n",
       "      <th>재료</th>\n",
       "      <th>조리법</th>\n",
       "      <th>카테고리</th>\n",
       "    </tr>\n",
       "  </thead>\n",
       "  <tbody>\n",
       "    <tr>\n",
       "      <th>0</th>\n",
       "      <td>1</td>\n",
       "      <td>NaN</td>\n",
       "      <td>스팸 김밥</td>\n",
       "      <td>스팸 1통\\n밥 2그릇\\n달걀 4개\\n맛소금\\n김밥용 김 2장</td>\n",
       "      <td>1. 밥에 참기름과 맛소금을 넣고 잘 버무려 주세요. 밥 두공기에, 맛소금 1/2 ...</td>\n",
       "      <td>일식, 밥, 김밥, 분식, 돼지고기</td>\n",
       "    </tr>\n",
       "    <tr>\n",
       "      <th>1</th>\n",
       "      <td>2</td>\n",
       "      <td>NaN</td>\n",
       "      <td>떡볶이</td>\n",
       "      <td>쌀떡 400g \\n사각어묵 3장 \\n비엔나 소세지 3개 \\n삶은 달걀 2개 \\n대파...</td>\n",
       "      <td>1. 떡은 미리 찬물에 2-3번 헹군 다음에 이렇게 담가두세요. 다른 재료를 준비하...</td>\n",
       "      <td>분식, 떡, 매콤</td>\n",
       "    </tr>\n",
       "    <tr>\n",
       "      <th>2</th>\n",
       "      <td>3</td>\n",
       "      <td>NaN</td>\n",
       "      <td>핫도그</td>\n",
       "      <td>모닝빵 \\n프랑크소세지 2개\\n슬라이스 치즈 1장\\n양파 반개\\n양배추 채 적당히 ...</td>\n",
       "      <td>1. 우선 양파는 얇게 썰어줍니다\\n2. 채썬 양파는 물에 담궈서 매운맛을 빼줍니다...</td>\n",
       "      <td>양식, 간단, 샌드위치, 돼지고기</td>\n",
       "    </tr>\n",
       "    <tr>\n",
       "      <th>3</th>\n",
       "      <td>4</td>\n",
       "      <td>NaN</td>\n",
       "      <td>김치찌개</td>\n",
       "      <td>돼지고기 삼겹살 300g\\n신김치 송송썰어 3컵 분량 (약 300g)\\n쌀뜨물 3컵...</td>\n",
       "      <td>1. 오늘 육수는 쌀뜨물을 약 3~4컵 분량 준비해 둡니다. 쌀뜨물 대신 멸치육수를...</td>\n",
       "      <td>한식, 매콤, 고기, 국, 김치, 돼지고기</td>\n",
       "    </tr>\n",
       "    <tr>\n",
       "      <th>4</th>\n",
       "      <td>5</td>\n",
       "      <td>NaN</td>\n",
       "      <td>김치말이국수</td>\n",
       "      <td>소면 100g \\n잘익은 김치 80g \\n삶은 계란 1개 \\n오이 1/6개\\n김치국...</td>\n",
       "      <td>1. 김치는 신걸로 준비해야 맛있습니다 양념을 털어내고 잘게 썰어주세요 설탕 0.3...</td>\n",
       "      <td>한식, 매콤, 김치, 면, 분식</td>\n",
       "    </tr>\n",
       "  </tbody>\n",
       "</table>\n",
       "</div>"
      ],
      "text/plain": [
       "   레시피id  사진      요리                                                 재료  \\\n",
       "0      1 NaN   스팸 김밥                 스팸 1통\\n밥 2그릇\\n달걀 4개\\n맛소금\\n김밥용 김 2장   \n",
       "1      2 NaN     떡볶이  쌀떡 400g \\n사각어묵 3장 \\n비엔나 소세지 3개 \\n삶은 달걀 2개 \\n대파...   \n",
       "2      3 NaN     핫도그  모닝빵 \\n프랑크소세지 2개\\n슬라이스 치즈 1장\\n양파 반개\\n양배추 채 적당히 ...   \n",
       "3      4 NaN    김치찌개  돼지고기 삼겹살 300g\\n신김치 송송썰어 3컵 분량 (약 300g)\\n쌀뜨물 3컵...   \n",
       "4      5 NaN  김치말이국수  소면 100g \\n잘익은 김치 80g \\n삶은 계란 1개 \\n오이 1/6개\\n김치국...   \n",
       "\n",
       "                                                 조리법                     카테고리  \n",
       "0  1. 밥에 참기름과 맛소금을 넣고 잘 버무려 주세요. 밥 두공기에, 맛소금 1/2 ...      일식, 밥, 김밥, 분식, 돼지고기  \n",
       "1  1. 떡은 미리 찬물에 2-3번 헹군 다음에 이렇게 담가두세요. 다른 재료를 준비하...                분식, 떡, 매콤  \n",
       "2  1. 우선 양파는 얇게 썰어줍니다\\n2. 채썬 양파는 물에 담궈서 매운맛을 빼줍니다...       양식, 간단, 샌드위치, 돼지고기  \n",
       "3  1. 오늘 육수는 쌀뜨물을 약 3~4컵 분량 준비해 둡니다. 쌀뜨물 대신 멸치육수를...  한식, 매콤, 고기, 국, 김치, 돼지고기  \n",
       "4  1. 김치는 신걸로 준비해야 맛있습니다 양념을 털어내고 잘게 썰어주세요 설탕 0.3...        한식, 매콤, 김치, 면, 분식  "
      ]
     },
     "execution_count": 27,
     "metadata": {},
     "output_type": "execute_result"
    }
   ],
   "source": [
    "df = pd.read_csv('recipe_list.csv')\n",
    "df.head()"
   ]
  },
  {
   "cell_type": "code",
   "execution_count": 28,
   "metadata": {},
   "outputs": [],
   "source": [
    "from sklearn.feature_extraction.text import TfidfVectorizer\n",
    "tfidf = TfidfVectorizer(stop_words='english')\n",
    "df['재료'] = df['재료'].fillna('')\n",
    "tfidf_matrix = tfidf.fit_transform(df['재료'])"
   ]
  },
  {
   "cell_type": "code",
   "execution_count": 29,
   "metadata": {},
   "outputs": [],
   "source": [
    "from sklearn.metrics.pairwise import linear_kernel\n",
    "cosine_sim = linear_kernel(tfidf_matrix, tfidf_matrix)"
   ]
  },
  {
   "cell_type": "code",
   "execution_count": 30,
   "metadata": {},
   "outputs": [],
   "source": [
    "#Construct a reverse map of indices and movie titles\n",
    "indices = pd.Series(df.index, index=df['요리']).drop_duplicates()"
   ]
  },
  {
   "cell_type": "code",
   "execution_count": 31,
   "metadata": {},
   "outputs": [],
   "source": [
    "def get_recommendations(title, cosine_sim=cosine_sim):\n",
    "    \n",
    "    idx = indices[title]\n",
    "\n",
    "    sim_scores = list(enumerate(cosine_sim[idx]))\n",
    "    sim_scores = sorted(sim_scores, key=lambda x: x[1], reverse=True)\n",
    "    sim_scores = sim_scores[1:3]\n",
    "    food_indices = [i[0] for i in sim_scores]\n",
    "    return df['요리'].iloc[food_indices]"
   ]
  },
  {
   "cell_type": "code",
   "execution_count": 32,
   "metadata": {},
   "outputs": [],
   "source": [
    "df_new1 = df[['요리', '카테고리']]"
   ]
  },
  {
   "cell_type": "code",
   "execution_count": 33,
   "metadata": {},
   "outputs": [],
   "source": [
    "# 데이터 내의 빈칸 처리\n",
    "def clean_data(x):\n",
    "    if isinstance(x, list):\n",
    "        return [str.lower(i.replace(\" \", \"\")) for i in x]\n",
    "    else:\n",
    "        #Check if director exists. If not, return empty string\n",
    "        if isinstance(x, str):\n",
    "            return str.lower(x.replace(\" \", \"\"))\n",
    "        else:\n",
    "            return ''"
   ]
  },
  {
   "cell_type": "code",
   "execution_count": 34,
   "metadata": {},
   "outputs": [
    {
     "name": "stderr",
     "output_type": "stream",
     "text": [
      "C:\\Users\\User\\AppData\\Local\\Temp/ipykernel_36332/887757627.py:5: SettingWithCopyWarning: \n",
      "A value is trying to be set on a copy of a slice from a DataFrame.\n",
      "Try using .loc[row_indexer,col_indexer] = value instead\n",
      "\n",
      "See the caveats in the documentation: https://pandas.pydata.org/pandas-docs/stable/user_guide/indexing.html#returning-a-view-versus-a-copy\n",
      "  df_new1[feature] = df_new1[feature].apply(clean_data)\n"
     ]
    }
   ],
   "source": [
    "# Apply clean_data function to your features.\n",
    "features = ['요리', '카테고리']\n",
    "\n",
    "for feature in features:\n",
    "    df_new1[feature] = df_new1[feature].apply(clean_data)   "
   ]
  },
  {
   "cell_type": "code",
   "execution_count": 35,
   "metadata": {},
   "outputs": [
    {
     "name": "stderr",
     "output_type": "stream",
     "text": [
      "C:\\Users\\User\\AppData\\Local\\Temp/ipykernel_36332/3560293087.py:4: SettingWithCopyWarning: \n",
      "A value is trying to be set on a copy of a slice from a DataFrame.\n",
      "Try using .loc[row_indexer,col_indexer] = value instead\n",
      "\n",
      "See the caveats in the documentation: https://pandas.pydata.org/pandas-docs/stable/user_guide/indexing.html#returning-a-view-versus-a-copy\n",
      "  df_new1['정제'] = df_new1.apply(create_soup, axis=1)\n"
     ]
    },
    {
     "data": {
      "text/plain": [
       "0        스팸김밥 일식,밥,김밥,분식,돼지고기\n",
       "1                 떡볶이 분식,떡,매콤\n",
       "2         핫도그 양식,간단,샌드위치,돼지고기\n",
       "3     김치찌개 한식,매콤,고기,국,김치,돼지고기\n",
       "4        김치말이국수 한식,매콤,김치,면,분식\n",
       "5           돈까스 일식,고기,튀김,돼지고기\n",
       "6        김치잔치국수 한식,매콤,김치,면,분식\n",
       "7          햄버거 양식,고기,샌드위치,소고기\n",
       "8           소불고기 한식,고기,달콤,소고기\n",
       "9                대패육전 한식,전,고기\n",
       "10         투움바파스타 양식,면,파스타,해물\n",
       "11          비소캐 한식,고기,달콤,돼지고기\n",
       "12             고구마맛탕 한식,달콤,튀김\n",
       "13          프렌치토스트 양식,간단,샌드위치\n",
       "14           김치볶음밥 한식,김치,밥,매콤\n",
       "15               옥수수콘치즈 양식,치즈\n",
       "16       순두부열라면 한식,라면,분식,면,매콤\n",
       "17            감바스 양식,새우,빵,해산물\n",
       "18              계란볶음밥 중식,밥,계란\n",
       "19        크림스파게티 양식,파스타,면,해산물\n",
       "20          육회 한식,고기,달콤,회,소고기\n",
       "21        돼지고기카레 일식,밥,고기,돼지고기\n",
       "22           팟타이 아시아,면,해산물,이색\n",
       "23                오코노미야키 일식,전\n",
       "24               연어초밥 일식,초밥,회\n",
       "25                 물회 회,한식,매콤\n",
       "26       탕수육 중식,튀김,달콤,고기,돼지고기\n",
       "27               멘보샤 중식,튀김,해물\n",
       "28               현미도넛 빵,양식,간단\n",
       "29                감자전 한식,전,이색\n",
       "30             피시엔칩스 양식,튀김,해물\n",
       "31              쫄면 한식,분식,면,매콤\n",
       "32                일본식냉라면 일식,면\n",
       "33             바지락칼국수 한식,면,해물\n",
       "34               볶음우동 일식,면,해물\n",
       "35              오무라이스 양식,밥,계란\n",
       "36              보쌈 한식,고기,돼지고기\n",
       "37               팬케이크 양식,간단,빵\n",
       "38                 코우슬로 양식,간단\n",
       "39      소고기미역국 한식,국,소고기,고기,해물\n",
       "40         찹스테이크 양식,고기,소고기,달콤\n",
       "41                  계란찜 한식,계란\n",
       "42          두부유부초밥 김밥,밥,일식,분식\n",
       "43           에그인핼 이색,양식,달콤,계란\n",
       "44             감자샐러드 샐러드,다이어트\n",
       "45     오삼불고기 한식,매콤,고기,돼지고기,해물\n",
       "46           크림리조또 양식,밥,해물,크림\n",
       "47         마파두부 중식,매콤,고기,돼지고기\n",
       "48            양배추셀러드 샐러드,다이어트\n",
       "49      김치날치알밥 밥,일식,볶음밥,김치,해물\n",
       "50       슈니첼 고기,돼지고기,양식,이색,튀김\n",
       "51        슈바인학센 고기,돼지고기,양식,이색\n",
       "Name: 정제, dtype: object"
      ]
     },
     "execution_count": 35,
     "metadata": {},
     "output_type": "execute_result"
    }
   ],
   "source": [
    "def create_soup(x):\n",
    "    return  x['요리'] + ' ' + x['카테고리']\n",
    "df100 = df_new1.copy()        \n",
    "df_new1['정제'] = df_new1.apply(create_soup, axis=1)\n",
    "df_new1['정제']"
   ]
  },
  {
   "cell_type": "code",
   "execution_count": 36,
   "metadata": {},
   "outputs": [
    {
     "data": {
      "text/plain": [
       "<52x81 sparse matrix of type '<class 'numpy.int64'>'\n",
       "\twith 212 stored elements in Compressed Sparse Row format>"
      ]
     },
     "execution_count": 36,
     "metadata": {},
     "output_type": "execute_result"
    }
   ],
   "source": [
    "df_new2 = df_new1\n",
    "# CountVectorizer를 통해서 진행, 불용어 제거\n",
    "from sklearn.feature_extraction.text import CountVectorizer\n",
    "stopwords=['으로', '가', '을', '를', '에', '로', '에게', '또한', ',', '.']\n",
    "\n",
    "count = CountVectorizer(stop_words=stopwords)\n",
    "count_matrix = count.fit_transform(df_new2['정제'])\n",
    "count_matrix"
   ]
  },
  {
   "cell_type": "code",
   "execution_count": 37,
   "metadata": {},
   "outputs": [
    {
     "data": {
      "text/plain": [
       "array([[1.        , 0.25819889, 0.2       , ..., 0.2       , 0.18257419,\n",
       "        0.2       ],\n",
       "       [0.25819889, 1.        , 0.        , ..., 0.        , 0.        ,\n",
       "        0.        ],\n",
       "       [0.2       , 0.        , 1.        , ..., 0.        , 0.36514837,\n",
       "        0.4       ],\n",
       "       ...,\n",
       "       [0.2       , 0.        , 0.        , ..., 1.        , 0.        ,\n",
       "        0.        ],\n",
       "       [0.18257419, 0.        , 0.36514837, ..., 0.        , 1.        ,\n",
       "        0.73029674],\n",
       "       [0.2       , 0.        , 0.4       , ..., 0.        , 0.73029674,\n",
       "        1.        ]])"
      ]
     },
     "execution_count": 37,
     "metadata": {},
     "output_type": "execute_result"
    }
   ],
   "source": [
    "from sklearn.metrics.pairwise import cosine_similarity\n",
    "# 다른 cosine_similarity를 구해준다, 이것은 category 에 대한 matrix\n",
    "cosine_sim2 = cosine_similarity(count_matrix, count_matrix)\n",
    "cosine_sim2"
   ]
  },
  {
   "cell_type": "code",
   "execution_count": 38,
   "metadata": {},
   "outputs": [],
   "source": [
    "df_new1 = df_new1.reset_index()\n",
    "indices = pd.Series(df_new1.index, index=df_new1['요리'])"
   ]
  },
  {
   "cell_type": "code",
   "execution_count": 39,
   "metadata": {},
   "outputs": [
    {
     "data": {
      "text/plain": [
       "21    돼지고기 카레\n",
       "26        탕수육\n",
       "Name: 요리, dtype: object"
      ]
     },
     "execution_count": 39,
     "metadata": {},
     "output_type": "execute_result"
    }
   ],
   "source": [
    "get_recommendations('돈까스', cosine_sim2)"
   ]
  }
 ],
 "metadata": {
  "kernelspec": {
   "display_name": "Python 3.9.7 ('base')",
   "language": "python",
   "name": "python3"
  },
  "language_info": {
   "codemirror_mode": {
    "name": "ipython",
    "version": 3
   },
   "file_extension": ".py",
   "mimetype": "text/x-python",
   "name": "python",
   "nbconvert_exporter": "python",
   "pygments_lexer": "ipython3",
   "version": "3.9.7 (default, Sep 16 2021, 16:59:28) [MSC v.1916 64 bit (AMD64)]"
  },
  "orig_nbformat": 4,
  "vscode": {
   "interpreter": {
    "hash": "f08154012ddadd8e950e6e9e035c7a7b32c136e7647e9b7c77e02eb723a8bedb"
   }
  }
 },
 "nbformat": 4,
 "nbformat_minor": 2
}
